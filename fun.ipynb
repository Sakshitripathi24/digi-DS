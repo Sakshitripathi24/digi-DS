{
 "cells": [
  {
   "cell_type": "code",
   "execution_count": 3,
   "metadata": {},
   "outputs": [],
   "source": [
    "def kuchbhi():\n",
    "    pass\n",
    "    "
   ]
  },
  {
   "cell_type": "code",
   "execution_count": 4,
   "metadata": {},
   "outputs": [],
   "source": [
    "def add5():\n",
    "    x =int(input(\"enter 1 number:\"))\n",
    "    y =int(input(\"enter 2 number:\"))\n",
    "    z =int(input(\"enter 3 number:\"))\n",
    "    a =int(input(\"enter 4 number:\"))\n",
    "    b =int(input(\"enter 5 number:\"))\n",
    "    print(f'output is {x+y+z+a+b}')"
   ]
  },
  {
   "cell_type": "code",
   "execution_count": 6,
   "metadata": {},
   "outputs": [
    {
     "name": "stdout",
     "output_type": "stream",
     "text": [
      "output is 57\n"
     ]
    }
   ],
   "source": [
    "add5()"
   ]
  },
  {
   "cell_type": "code",
   "execution_count": 7,
   "metadata": {},
   "outputs": [],
   "source": [
    "def add(a,b,c,d,e):\n",
    "    return a+b+c+d+e"
   ]
  },
  {
   "cell_type": "code",
   "execution_count": 11,
   "metadata": {},
   "outputs": [
    {
     "data": {
      "text/plain": [
       "15"
      ]
     },
     "execution_count": 11,
     "metadata": {},
     "output_type": "execute_result"
    }
   ],
   "source": [
    "add(1,2,3,4,5)\n"
   ]
  },
  {
   "cell_type": "code",
   "execution_count": 29,
   "metadata": {},
   "outputs": [],
   "source": [
    "def fib10():\n",
    "    x=[0,1]\n",
    "    for _ in range(8):\n",
    "        x.append(x[-1]+x[-2])\n",
    "        return x\n",
    "    \n",
    "    fib10()"
   ]
  },
  {
   "cell_type": "code",
   "execution_count": 30,
   "metadata": {},
   "outputs": [
    {
     "data": {
      "text/plain": [
       "[0, 1, 1]"
      ]
     },
     "execution_count": 30,
     "metadata": {},
     "output_type": "execute_result"
    }
   ],
   "source": [
    "fib10()"
   ]
  },
  {
   "cell_type": "code",
   "execution_count": 35,
   "metadata": {},
   "outputs": [],
   "source": [
    "def fib_extreme(first, second, size):\n",
    "    x = [first, second]\n",
    "    for _ in range(size-2):\n",
    "        x.append(x[-1] +x [-2])\n",
    "    return x"
   ]
  },
  {
   "cell_type": "code",
   "execution_count": 36,
   "metadata": {},
   "outputs": [
    {
     "data": {
      "text/plain": [
       "[3,\n",
       " 5,\n",
       " 8,\n",
       " 13,\n",
       " 21,\n",
       " 34,\n",
       " 55,\n",
       " 89,\n",
       " 144,\n",
       " 233,\n",
       " 377,\n",
       " 610,\n",
       " 987,\n",
       " 1597,\n",
       " 2584,\n",
       " 4181,\n",
       " 6765,\n",
       " 10946,\n",
       " 17711,\n",
       " 28657,\n",
       " 46368,\n",
       " 75025,\n",
       " 121393,\n",
       " 196418,\n",
       " 317811]"
      ]
     },
     "execution_count": 36,
     "metadata": {},
     "output_type": "execute_result"
    }
   ],
   "source": [
    "fib_extreme(3,5,25)"
   ]
  },
  {
   "cell_type": "code",
   "execution_count": 2,
   "metadata": {},
   "outputs": [],
   "source": [
    "def multiplier(x,y):\n",
    "    return x*y"
   ]
  },
  {
   "cell_type": "code",
   "execution_count": 4,
   "metadata": {},
   "outputs": [
    {
     "name": "stdout",
     "output_type": "stream",
     "text": [
      "6\n",
      "396\n"
     ]
    }
   ],
   "source": [
    "print(multiplier(2,3))\n",
    "print(multiplier(12,33))\n",
    "#print(multiplier(2,))"
   ]
  },
  {
   "cell_type": "code",
   "execution_count": 1,
   "metadata": {},
   "outputs": [],
   "source": [
    "#ketyword argument function\n",
    "def si(p,r,t): # positional argument\n",
    "    return p*r*t/100 # keyword argument"
   ]
  },
  {
   "cell_type": "code",
   "execution_count": 2,
   "metadata": {},
   "outputs": [
    {
     "name": "stdout",
     "output_type": "stream",
     "text": [
      "100.0\n",
      "100.0\n"
     ]
    }
   ],
   "source": [
    "print(si(1000,10,1))\n",
    "print(si(p=1000,r=10,t=1))"
   ]
  },
  {
   "cell_type": "code",
   "execution_count": 5,
   "metadata": {},
   "outputs": [],
   "source": [
    "def multiplier(x=1 ,y=1, z=1):\n",
    "    return x*y*z"
   ]
  },
  {
   "cell_type": "code",
   "execution_count": 7,
   "metadata": {},
   "outputs": [
    {
     "name": "stdout",
     "output_type": "stream",
     "text": [
      "8\n",
      "80\n",
      "80\n",
      "200\n",
      "1\n",
      "12\n",
      "12\n",
      "2400\n"
     ]
    }
   ],
   "source": [
    "print(multiplier(2,4))\n",
    "print(multiplier(2,4,10))\n",
    "print(multiplier(2,4, z=10))\n",
    "print(multiplier(x=2, y=1, z=100))\n",
    "print(multiplier())\n",
    "print(multiplier(12))\n",
    "print(multiplier(z=12))\n",
    "print(multiplier(z=12, x=200))"
   ]
  },
  {
   "cell_type": "code",
   "execution_count": 17,
   "metadata": {},
   "outputs": [
    {
     "name": "stdout",
     "output_type": "stream",
     "text": [
      "1 2 3 4\n"
     ]
    }
   ],
   "source": [
    "print(1,2,3,4)\n",
    "\n",
    "\n"
   ]
  },
  {
   "cell_type": "code",
   "execution_count": 21,
   "metadata": {},
   "outputs": [],
   "source": [
    "#variable \n",
    "def mean(*numbers):\n",
    "    return sum(numbers)/len(numbers)"
   ]
  },
  {
   "cell_type": "code",
   "execution_count": 22,
   "metadata": {},
   "outputs": [
    {
     "data": {
      "text/plain": [
       "24.0"
      ]
     },
     "execution_count": 22,
     "metadata": {},
     "output_type": "execute_result"
    }
   ],
   "source": [
    "mean(1,23,55,20,12,34,35,26,10)"
   ]
  },
  {
   "cell_type": "code",
   "execution_count": 23,
   "metadata": {},
   "outputs": [
    {
     "data": {
      "text/plain": [
       "2.0"
      ]
     },
     "execution_count": 23,
     "metadata": {},
     "output_type": "execute_result"
    }
   ],
   "source": [
    "mean(1,2,3)"
   ]
  },
  {
   "cell_type": "code",
   "execution_count": 25,
   "metadata": {},
   "outputs": [
    {
     "name": "stdout",
     "output_type": "stream",
     "text": [
      "from turtle import *\n",
      "\n",
      "speed('slowest')\n",
      "#polygon\n",
      "distance = 100\n",
      "sides = 6\n",
      "\n",
      "for i in range(5):\n",
      "    fd(100)\n",
      "    rt(144)\n",
      "    \n",
      "    for i in range(5):\n",
      "        fd(100)\n",
      "        rt(144)\n",
      "        for i in range(5):\n",
      "            fd(100)\n",
      "            rt(144)\n",
      "            for i in range(5):\n",
      "                fd(100)\n",
      "                rt(144)\n",
      "                for i in range(5):\n",
      "                    fd(100)\n",
      "                    rt(144)\n",
      "                \n",
      "                \n",
      "                       \n",
      "                       \n",
      "            \n",
      "                    \n",
      "    \n",
      "            \n",
      "        \n",
      "    \n",
      "    \n",
      "        write(i)\n",
      "    \n",
      "hideturtl()\n",
      "mainloop() #this line is needed keep the window open\n"
     ]
    }
   ],
   "source": [
    "#read file\n",
    "with open('t1.py') as f:\n",
    "    print(f.read())"
   ]
  },
  {
   "cell_type": "code",
   "execution_count": 8,
   "metadata": {},
   "outputs": [],
   "source": [
    "# write file\n",
    "data = \"journey before destination\"\n",
    "with open('quote.text','w') as f:\n",
    "    f.write(data)"
   ]
  },
  {
   "cell_type": "code",
   "execution_count": 27,
   "metadata": {},
   "outputs": [],
   "source": [
    "# write lines function for multiple file\n"
   ]
  },
  {
   "cell_type": "code",
   "execution_count": 9,
   "metadata": {},
   "outputs": [],
   "source": [
    "codedemo = ''' \n",
    "      def thosfunc():\n",
    "      print(\"hello world\")\n",
    "'''\n",
    "with open('code_with_coding.py','w') as f:\n",
    "    f.write(codedemo)      "
   ]
  },
  {
   "cell_type": "code",
   "execution_count": 10,
   "metadata": {},
   "outputs": [],
   "source": [
    "def report(**students):\n",
    "    with open('report.csv','w') as f:\n",
    "        f.write('name,marks\\n')\n",
    "        for name, marks in students.items():\n",
    "            f.write(f'{name},{marks}\\n')\n",
    "        "
   ]
  },
  {
   "cell_type": "code",
   "execution_count": 11,
   "metadata": {},
   "outputs": [],
   "source": [
    "report(ram=100, shyam=200, mohan=300)"
   ]
  },
  {
   "cell_type": "code",
   "execution_count": 39,
   "metadata": {},
   "outputs": [],
   "source": [
    "def eq1(x=1):\n",
    "    return x**2+x*10+x"
   ]
  },
  {
   "cell_type": "code",
   "execution_count": 40,
   "metadata": {},
   "outputs": [
    {
     "name": "stdout",
     "output_type": "stream",
     "text": [
      "26 42 210\n"
     ]
    }
   ],
   "source": [
    "print(eq1(2),eq1(3),eq1(10))"
   ]
  },
  {
   "cell_type": "code",
   "execution_count": 13,
   "metadata": {},
   "outputs": [],
   "source": [
    "f = lambda i: i**2+i*10+i\n",
    "g = lambda x,y: x+y if x>y else y-x"
   ]
  },
  {
   "cell_type": "code",
   "execution_count": 45,
   "metadata": {},
   "outputs": [
    {
     "name": "stdout",
     "output_type": "stream",
     "text": [
      "26 210\n",
      "11 35\n"
     ]
    }
   ],
   "source": [
    "print(f(2), f(10))\n",
    "print(g(2,13), g(33,2))"
   ]
  },
  {
   "cell_type": "code",
   "execution_count": 14,
   "metadata": {},
   "outputs": [
    {
     "name": "stdout",
     "output_type": "stream",
     "text": [
      "siht si a ecnetnes "
     ]
    }
   ],
   "source": [
    "sentence = \"this is a sentence\"\n",
    "words = sentence.split()\n",
    "i = 0\n",
    "while i < len(words):\n",
    "    print(words[i][::-1], end=' ')\n",
    "    i += 1\n",
    "    "
   ]
  },
  {
   "cell_type": "code",
   "execution_count": null,
   "metadata": {},
   "outputs": [],
   "source": []
  }
 ],
 "metadata": {
  "kernelspec": {
   "display_name": "base",
   "language": "python",
   "name": "python3"
  },
  "language_info": {
   "codemirror_mode": {
    "name": "ipython",
    "version": 3
   },
   "file_extension": ".py",
   "mimetype": "text/x-python",
   "name": "python",
   "nbconvert_exporter": "python",
   "pygments_lexer": "ipython3",
   "version": "3.10.10"
  },
  "orig_nbformat": 4
 },
 "nbformat": 4,
 "nbformat_minor": 2
}

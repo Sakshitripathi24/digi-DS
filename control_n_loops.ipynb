{
 "cells": [
  {
   "cell_type": "code",
   "execution_count": 1,
   "metadata": {},
   "outputs": [
    {
     "name": "stdout",
     "output_type": "stream",
     "text": [
      "z is greater than z and y\n"
     ]
    }
   ],
   "source": [
    "#multiple conditional statement\n",
    "x,y,z=120,120,121\n",
    "if x > y and x > z:\n",
    "    print(\"x is greater than y and z\")\n",
    "elif y > x and y > z:\n",
    "    print(\"y is greater than y and z\") \n",
    "elif z > x and z > y:\n",
    "    print(\"z is greater than z and y\")\n",
    "    "
   ]
  },
  {
   "cell_type": "code",
   "execution_count": null,
   "metadata": {},
   "outputs": [],
   "source": []
  }
 ],
 "metadata": {
  "kernelspec": {
   "display_name": "base",
   "language": "python",
   "name": "python3"
  },
  "language_info": {
   "codemirror_mode": {
    "name": "ipython",
    "version": 3
   },
   "file_extension": ".py",
   "mimetype": "text/x-python",
   "name": "python",
   "nbconvert_exporter": "python",
   "pygments_lexer": "ipython3",
   "version": "3.10.10"
  },
  "orig_nbformat": 4
 },
 "nbformat": 4,
 "nbformat_minor": 2
}

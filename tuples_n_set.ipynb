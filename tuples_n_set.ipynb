{
 "cells": [
  {
   "cell_type": "code",
   "execution_count": 2,
   "metadata": {},
   "outputs": [
    {
     "name": "stdout",
     "output_type": "stream",
     "text": [
      "(1, 2, 3)\n",
      "<class 'tuple'>\n"
     ]
    }
   ],
   "source": [
    "# tuple\n",
    "x = (1,2,3)\n",
    "print(x)\n",
    "print(type(x))"
   ]
  },
  {
   "cell_type": "code",
   "execution_count": 3,
   "metadata": {},
   "outputs": [
    {
     "data": {
      "text/plain": [
       "(12, 13, 50)"
      ]
     },
     "execution_count": 3,
     "metadata": {},
     "output_type": "execute_result"
    }
   ],
   "source": [
    "12, 13, 50"
   ]
  },
  {
   "cell_type": "code",
   "execution_count": 4,
   "metadata": {},
   "outputs": [
    {
     "name": "stdout",
     "output_type": "stream",
     "text": [
      "(12, 13, 50)\n",
      "<class 'tuple'>\n"
     ]
    }
   ],
   "source": [
    "a = 12, 13, 50\n",
    "print(a)\n",
    "print(type(a))"
   ]
  },
  {
   "cell_type": "code",
   "execution_count": 6,
   "metadata": {},
   "outputs": [
    {
     "name": "stdout",
     "output_type": "stream",
     "text": [
      "(13,)\n",
      "<class 'tuple'>\n"
     ]
    }
   ],
   "source": [
    "#single element tuple\n",
    "b = (13,)\n",
    "print(b)\n",
    "print(type(b))"
   ]
  },
  {
   "cell_type": "code",
   "execution_count": 9,
   "metadata": {},
   "outputs": [
    {
     "name": "stdout",
     "output_type": "stream",
     "text": [
      "12 13 50\n"
     ]
    }
   ],
   "source": [
    "# tuple unpacking\n",
    "x1, x2, x3 =a\n",
    "print(x1,x2,x3)\n"
   ]
  },
  {
   "cell_type": "code",
   "execution_count": 10,
   "metadata": {},
   "outputs": [
    {
     "name": "stdout",
     "output_type": "stream",
     "text": [
      "1 3 [5, 6, 7, 12, 14, 16, 17]\n"
     ]
    }
   ],
   "source": [
    "a = (1,3,5,6,7,12,14,16,17)\n",
    "a1, a2, *a3 = a #a3 will get the remaining element as a list\n",
    "print(a1,a2,a3)"
   ]
  },
  {
   "cell_type": "code",
   "execution_count": 11,
   "metadata": {},
   "outputs": [
    {
     "data": {
      "text/plain": [
       "1"
      ]
     },
     "execution_count": 11,
     "metadata": {},
     "output_type": "execute_result"
    }
   ],
   "source": [
    "a[0]"
   ]
  },
  {
   "cell_type": "code",
   "execution_count": 12,
   "metadata": {},
   "outputs": [
    {
     "data": {
      "text/plain": [
       "(1, 3, 5, 6)"
      ]
     },
     "execution_count": 12,
     "metadata": {},
     "output_type": "execute_result"
    }
   ],
   "source": [
    "a[:4] #slicing"
   ]
  },
  {
   "cell_type": "code",
   "execution_count": 13,
   "metadata": {},
   "outputs": [
    {
     "name": "stdout",
     "output_type": "stream",
     "text": [
      "1\n",
      "3\n",
      "5\n",
      "6\n",
      "7\n",
      "12\n",
      "14\n",
      "16\n",
      "17\n"
     ]
    }
   ],
   "source": [
    "for i in a:\n",
    "    print(i)"
   ]
  },
  {
   "cell_type": "code",
   "execution_count": 16,
   "metadata": {},
   "outputs": [
    {
     "name": "stdout",
     "output_type": "stream",
     "text": [
      "3\n",
      "3\n",
      "0\n",
      "2\n",
      "5\n"
     ]
    }
   ],
   "source": [
    "x = (1,2,3,1,2,3,1,2,3)\n",
    "print(x.count(1))\n",
    "print(x.count(2))\n",
    "print(x.count(5))\n",
    "print(x.index(3)) # 3 is the value of search\n",
    "print(x.index(3,5)) # 3 is the value to search and 5 is the starting idex"
   ]
  },
  {
   "cell_type": "code",
   "execution_count": 1,
   "metadata": {},
   "outputs": [],
   "source": [
    "a = [1,2,3]\n",
    "at =tuple(a)  # list to tuple\n",
    "al =list(a) # a tuple to list"
   ]
  },
  {
   "cell_type": "code",
   "execution_count": 21,
   "metadata": {},
   "outputs": [
    {
     "name": "stdout",
     "output_type": "stream",
     "text": [
      "{1, 2, 3}\n",
      "<class 'set'>\n"
     ]
    }
   ],
   "source": [
    "s = {1,2,3,1,2,3,1,2,3}\n",
    "print(s)\n",
    "print(type(s))"
   ]
  },
  {
   "cell_type": "code",
   "execution_count": 22,
   "metadata": {},
   "outputs": [],
   "source": [
    "s1 = set() #empty sets"
   ]
  },
  {
   "cell_type": "code",
   "execution_count": 23,
   "metadata": {},
   "outputs": [
    {
     "name": "stdout",
     "output_type": "stream",
     "text": [
      "{'hello', 3, 4}\n"
     ]
    }
   ],
   "source": [
    "s1.add(3)\n",
    "s1.add(4)\n",
    "s1.add('hello')\n",
    "s1.add(3)\n",
    "print(s1)"
   ]
  },
  {
   "cell_type": "code",
   "execution_count": 25,
   "metadata": {},
   "outputs": [
    {
     "name": "stdout",
     "output_type": "stream",
     "text": [
      "{'hello', 4}\n"
     ]
    }
   ],
   "source": [
    "s1.discard(3)\n",
    "print(s1)# remove 3 from set s1 (remove() can also be use)"
   ]
  },
  {
   "cell_type": "code",
   "execution_count": 26,
   "metadata": {},
   "outputs": [
    {
     "name": "stdout",
     "output_type": "stream",
     "text": [
      "hello\n",
      "4\n"
     ]
    }
   ],
   "source": [
    "for i in s1:\n",
    "    print(i)"
   ]
  },
  {
   "cell_type": "code",
   "execution_count": 30,
   "metadata": {},
   "outputs": [
    {
     "name": "stdout",
     "output_type": "stream",
     "text": [
      "{'i', 's', 't', 'h', 'p', ' ', 'a', 'r', 'k'}\n"
     ]
    }
   ],
   "source": [
    "name = set('sakshi tripathi')\n",
    "print(name)"
   ]
  },
  {
   "cell_type": "code",
   "execution_count": 6,
   "metadata": {},
   "outputs": [],
   "source": [
    "# set operation\n",
    "group1 = {'apple','banana','orange','grapes','pinapple','watermelon'}\n",
    "group2 = {'apple','grapes','mango','pinapple','watermelon','kiwi','papaya','mango'}\n",
    "\n"
   ]
  },
  {
   "cell_type": "code",
   "execution_count": 35,
   "metadata": {},
   "outputs": [
    {
     "name": "stdout",
     "output_type": "stream",
     "text": [
      "{'apple', 'orange', 'papaya', 'kiwi', 'mango', 'banana', 'pinapple', 'grapes', 'watermelon'}\n",
      "{'apple', 'orange', 'papaya', 'kiwi', 'mango', 'banana', 'pinapple', 'grapes', 'watermelon'}\n"
     ]
    }
   ],
   "source": [
    "# union\n",
    "print(group1 | group2)\n",
    "print(group1.union(group2))"
   ]
  },
  {
   "cell_type": "code",
   "execution_count": 9,
   "metadata": {},
   "outputs": [
    {
     "name": "stdout",
     "output_type": "stream",
     "text": [
      "{'apple', 'grapes', 'pinapple', 'watermelon'}\n",
      "{'apple', 'grapes', 'pinapple', 'watermelon'}\n"
     ]
    }
   ],
   "source": [
    "\n",
    "print(group1 & group2)\n",
    "print(group1.intersection(group2))\n"
   ]
  },
  {
   "cell_type": "code",
   "execution_count": 10,
   "metadata": {},
   "outputs": [
    {
     "name": "stdout",
     "output_type": "stream",
     "text": [
      "{'banana', 'orange'}\n",
      "{'banana', 'orange'}\n"
     ]
    }
   ],
   "source": [
    "#difference\n",
    "print(group1 - group2)\n",
    "print(group1.difference(group2))\n",
    "\n"
   ]
  },
  {
   "cell_type": "code",
   "execution_count": 11,
   "metadata": {},
   "outputs": [
    {
     "name": "stdout",
     "output_type": "stream",
     "text": [
      "{'banana', 'orange', 'kiwi', 'mango', 'papaya'}\n",
      "{'banana', 'orange', 'kiwi', 'mango', 'papaya'}\n"
     ]
    }
   ],
   "source": [
    "#symmetric difference\n",
    "print(group1^group2)\n",
    "print(group1.symmetric_difference(group2))"
   ]
  },
  {
   "cell_type": "code",
   "execution_count": 12,
   "metadata": {},
   "outputs": [],
   "source": [
    "# task\n",
    "#-create a list called reports ththat will hold report of 7 students.\n",
    "#-each student will have a name and marks in 3 subjects\n",
    "#-use for loop to display the report of each student"
   ]
  },
  {
   "cell_type": "code",
   "execution_count": 38,
   "metadata": {},
   "outputs": [],
   "source": [
    "reports = [\n",
    "    ['rohan',]\n",
    "]"
   ]
  },
  {
   "cell_type": "code",
   "execution_count": null,
   "metadata": {},
   "outputs": [],
   "source": []
  }
 ],
 "metadata": {
  "kernelspec": {
   "display_name": "base",
   "language": "python",
   "name": "python3"
  },
  "language_info": {
   "codemirror_mode": {
    "name": "ipython",
    "version": 3
   },
   "file_extension": ".py",
   "mimetype": "text/x-python",
   "name": "python",
   "nbconvert_exporter": "python",
   "pygments_lexer": "ipython3",
   "version": "3.10.10"
  },
  "orig_nbformat": 4
 },
 "nbformat": 4,
 "nbformat_minor": 2
}

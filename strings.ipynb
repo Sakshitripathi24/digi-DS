{
 "cells": [
  {
   "cell_type": "code",
   "execution_count": null,
   "metadata": {},
   "outputs": [],
   "source": [
    "a = 'this is a string' #single quotes\n",
    "b = \"this is another string\" # double quotes\n",
    "c = '''this is  a string\n",
    "with two lines''' # triple quotes\n",
    "d = b'this is a byte string' # byte string\n",
    "e = u'this is a \\nunicode string' # unicode string\n",
    "f = r'this is a \\nraw string"
   ]
  },
  {
   "cell_type": "code",
   "execution_count": 1,
   "metadata": {},
   "outputs": [
    {
     "name": "stdout",
     "output_type": "stream",
     "text": [
      "10\n"
     ]
    }
   ],
   "source": [
    "x = 10\n",
    "x = str(x) # convert to stting\n",
    "print (x)"
   ]
  },
  {
   "cell_type": "code",
   "execution_count": 2,
   "metadata": {},
   "outputs": [
    {
     "name": "stdout",
     "output_type": "stream",
     "text": [
      "str = digipodium\n"
     ]
    }
   ],
   "source": [
    "str = 'digipodium'\n",
    "print('str =',str)"
   ]
  },
  {
   "cell_type": "code",
   "execution_count": 3,
   "metadata": {},
   "outputs": [
    {
     "name": "stdout",
     "output_type": "stream",
     "text": [
      "str[0]= d\n"
     ]
    }
   ],
   "source": [
    "print('str[0]=', str[0])"
   ]
  },
  {
   "cell_type": "code",
   "execution_count": 4,
   "metadata": {},
   "outputs": [
    {
     "name": "stdout",
     "output_type": "stream",
     "text": [
      "str[1] i\n"
     ]
    }
   ],
   "source": [
    "print('str[1]',str[1])"
   ]
  },
  {
   "cell_type": "code",
   "execution_count": 7,
   "metadata": {},
   "outputs": [
    {
     "name": "stdout",
     "output_type": "stream",
     "text": [
      "str[-1]= m\n"
     ]
    }
   ],
   "source": [
    "print('str[-1]=', str[-1])"
   ]
  },
  {
   "cell_type": "code",
   "execution_count": 6,
   "metadata": {},
   "outputs": [
    {
     "name": "stdout",
     "output_type": "stream",
     "text": [
      "str[-2]= u\n"
     ]
    }
   ],
   "source": [
    "print('str[-2]=',str[-2])"
   ]
  },
  {
   "cell_type": "code",
   "execution_count": 8,
   "metadata": {},
   "outputs": [
    {
     "name": "stdout",
     "output_type": "stream",
     "text": [
      "pod\n"
     ]
    }
   ],
   "source": [
    "# getting a slice\n",
    "s='digipodium'\n",
    "slice1 = s[4:7]\n",
    "print(slice1)"
   ]
  },
  {
   "cell_type": "code",
   "execution_count": 12,
   "metadata": {},
   "outputs": [
    {
     "data": {
      "text/plain": [
       "'vijay'"
      ]
     },
     "execution_count": 12,
     "metadata": {},
     "output_type": "execute_result"
    }
   ],
   "source": [
    "name = 'vijay dinanath chauhan'\n",
    "name[:5] #first 5 charcter"
   ]
  },
  {
   "cell_type": "code",
   "execution_count": 13,
   "metadata": {},
   "outputs": [
    {
     "data": {
      "text/plain": [
       "22"
      ]
     },
     "execution_count": 13,
     "metadata": {},
     "output_type": "execute_result"
    }
   ],
   "source": [
    "len(name) #length of string\n"
   ]
  },
  {
   "cell_type": "code",
   "execution_count": 14,
   "metadata": {},
   "outputs": [
    {
     "data": {
      "text/plain": [
       "'inanath chauhan'"
      ]
     },
     "execution_count": 14,
     "metadata": {},
     "output_type": "execute_result"
    }
   ],
   "source": [
    "name[--7:] # last 7 character"
   ]
  },
  {
   "cell_type": "code",
   "execution_count": 15,
   "metadata": {},
   "outputs": [],
   "source": [
    "fname = name[:5]\n",
    "lname = name[-7:]"
   ]
  },
  {
   "cell_type": "code",
   "execution_count": 16,
   "metadata": {},
   "outputs": [
    {
     "data": {
      "text/plain": [
       "'vjydnnt hua'"
      ]
     },
     "execution_count": 16,
     "metadata": {},
     "output_type": "execute_result"
    }
   ],
   "source": [
    "name[::2]#evry second char"
   ]
  },
  {
   "cell_type": "code",
   "execution_count": 17,
   "metadata": {},
   "outputs": [
    {
     "data": {
      "text/plain": [
       "'nahuahc htananid yajiv'"
      ]
     },
     "execution_count": 17,
     "metadata": {},
     "output_type": "execute_result"
    }
   ],
   "source": [
    "name[::-1] #reverse the string"
   ]
  },
  {
   "cell_type": "code",
   "execution_count": 1,
   "metadata": {},
   "outputs": [
    {
     "name": "stdout",
     "output_type": "stream",
     "text": [
      "11\n"
     ]
    }
   ],
   "source": [
    "x = (input('Enter a number:'))\n",
    "if x.isnumeric():\n",
    "    print(x)\n",
    "else:\n",
    "    print('invalid input')"
   ]
  },
  {
   "cell_type": "code",
   "execution_count": 24,
   "metadata": {},
   "outputs": [
    {
     "name": "stdout",
     "output_type": "stream",
     "text": [
      "Hello sakshi\n"
     ]
    }
   ],
   "source": [
    "uname = input('enter your name: ')\n",
    "if uname.isalpha():\n",
    "    print('Hello', uname)\n",
    "else:\n",
    "    print('invalid input')"
   ]
  },
  {
   "cell_type": "code",
   "execution_count": 4,
   "metadata": {},
   "outputs": [
    {
     "name": "stdout",
     "output_type": "stream",
     "text": [
      "must be some special charachters\n"
     ]
    }
   ],
   "source": [
    "uname = input('enter a name')\n",
    "if uname.isalnum():\n",
    "    print('must be some special charachters')\n",
    "else:\n",
    "    print('not so special')"
   ]
  },
  {
   "cell_type": "code",
   "execution_count": 1,
   "metadata": {},
   "outputs": [
    {
     "name": "stdout",
     "output_type": "stream",
     "text": [
      "Mr. Anand\n",
      "Mrs. Vijay\n",
      "Mrs. Ravi\n",
      "you are not allowd\n",
      "Mr. Ramesh\n"
     ]
    }
   ],
   "source": [
    "names = ['Mr. Anand', 'Mrs. Vijay', 'Mrs. Ravi', 'er. rajesh', 'Mr. Ramesh']\n",
    "for name in names:\n",
    "    if name.startswith('Mr.') or name.startswith('Mrs.'):\n",
    "     print (name)\n",
    "    else:\n",
    "     print(f'you are not allowd')"
   ]
  },
  {
   "cell_type": "code",
   "execution_count": 2,
   "metadata": {},
   "outputs": [
    {
     "name": "stdout",
     "output_type": "stream",
     "text": [
      "abc.txt    text file\n",
      "you are not allowed:\n",
      "pqr.py    python file\n",
      "mno.py    python file\n",
      "def.txt    text file\n"
     ]
    }
   ],
   "source": [
    "files = ['abc.txt', 'xyz.doc', 'pqr.py', 'mno.py', 'def.txt']\n",
    "for item in files:\n",
    "    if item.endswith('.txt'):\n",
    "        print(f'{item:10} text file')\n",
    "    elif item.endswith('.py'):\n",
    "        print(f'{item:10}python file')\n",
    "    else:\n",
    "        print(f'you are not allowed:')"
   ]
  },
  {
   "cell_type": "code",
   "execution_count": 3,
   "metadata": {},
   "outputs": [
    {
     "name": "stdout",
     "output_type": "stream",
     "text": [
      "JOURNEY BEFORE DESTINATION\n",
      "journey before destination\n",
      "Journey Before Destination\n",
      "Journey before destination\n",
      "jOURNEY bEFORE dESTINATION\n",
      "journey before destination\n"
     ]
    }
   ],
   "source": [
    "name = 'Journey Before Destination'\n",
    "print(name.upper())\n",
    "print(name.lower())\n",
    "print(name.title())\n",
    "print(name.capitalize())\n",
    "print(name.swapcase())\n",
    "print(name.casefold())"
   ]
  },
  {
   "cell_type": "code",
   "execution_count": 4,
   "metadata": {},
   "outputs": [
    {
     "name": "stdout",
     "output_type": "stream",
     "text": [
      "journey before destination\n"
     ]
    }
   ],
   "source": [
    "name = name.lower()\n",
    "print(name)"
   ]
  },
  {
   "cell_type": "code",
   "execution_count": 5,
   "metadata": {},
   "outputs": [
    {
     "name": "stdout",
     "output_type": "stream",
     "text": [
      "4\n",
      "4\n"
     ]
    }
   ],
   "source": [
    "S = 'this is an example string, this is a simple string'\n",
    "print(S.count('is'))\n",
    "print(S.count('t'))\n"
   ]
  },
  {
   "cell_type": "code",
   "execution_count": 8,
   "metadata": {},
   "outputs": [
    {
     "name": "stdout",
     "output_type": "stream",
     "text": [
      "13\n"
     ]
    }
   ],
   "source": [
    "# count vowel\n",
    "tv = S.count('a') + S.count('e') + S.count('i') + S.count('o') + S.count('u')\n",
    "print(tv)"
   ]
  },
  {
   "cell_type": "code",
   "execution_count": 11,
   "metadata": {},
   "outputs": [
    {
     "name": "stdout",
     "output_type": "stream",
     "text": [
      "11\n",
      "2\n",
      "5\n",
      "29\n"
     ]
    }
   ],
   "source": [
    "print(S.find('example'))\n",
    "print(S.find('is'))\n",
    "print(S.find('is',3)) # start searching for index 3\n",
    "print(S.find('is',6))"
   ]
  },
  {
   "cell_type": "code",
   "execution_count": 13,
   "metadata": {},
   "outputs": [
    {
     "name": "stdout",
     "output_type": "stream",
     "text": [
      "thwas was an example string, thwas was a simple string\n"
     ]
    }
   ],
   "source": [
    "# replace all occurance\n",
    "print(S.replace('is','was'))"
   ]
  },
  {
   "cell_type": "code",
   "execution_count": 14,
   "metadata": {},
   "outputs": [
    {
     "data": {
      "text/plain": [
       "'this is an example , this is a simple '"
      ]
     },
     "execution_count": 14,
     "metadata": {},
     "output_type": "execute_result"
    }
   ],
   "source": [
    "#remove help of replace\n",
    "S.replace('string','')"
   ]
  },
  {
   "cell_type": "code",
   "execution_count": 16,
   "metadata": {},
   "outputs": [
    {
     "name": "stdout",
     "output_type": "stream",
     "text": [
      "this is an example string, this is a simple string\n"
     ]
    }
   ],
   "source": [
    "S.split()\n",
    "print(S)"
   ]
  },
  {
   "cell_type": "code",
   "execution_count": 18,
   "metadata": {},
   "outputs": [
    {
     "data": {
      "text/plain": [
       "['this is an example string', ' this is a simple string']"
      ]
     },
     "execution_count": 18,
     "metadata": {},
     "output_type": "execute_result"
    }
   ],
   "source": [
    "S.split(',')"
   ]
  },
  {
   "cell_type": "code",
   "execution_count": 19,
   "metadata": {},
   "outputs": [
    {
     "data": {
      "text/plain": [
       "'one_ two_ three_ four_ five'"
      ]
     },
     "execution_count": 19,
     "metadata": {},
     "output_type": "execute_result"
    }
   ],
   "source": [
    "words = ['one','two','three','four','five']\n",
    "\"_ \".join(words)"
   ]
  },
  {
   "cell_type": "code",
   "execution_count": 20,
   "metadata": {},
   "outputs": [
    {
     "name": "stdout",
     "output_type": "stream",
     "text": [
      "  sakshi  \n",
      "sakshi\n"
     ]
    }
   ],
   "source": [
    "x = '  sakshi  '\n",
    "print(x)\n",
    "print(x.strip()) #strip is data cleaning and mining"
   ]
  },
  {
   "cell_type": "code",
   "execution_count": null,
   "metadata": {},
   "outputs": [],
   "source": [
    "\n",
    "\n",
    "\n"
   ]
  }
 ],
 "metadata": {
  "kernelspec": {
   "display_name": "base",
   "language": "python",
   "name": "python3"
  },
  "language_info": {
   "codemirror_mode": {
    "name": "ipython",
    "version": 3
   },
   "file_extension": ".py",
   "mimetype": "text/x-python",
   "name": "python",
   "nbconvert_exporter": "python",
   "pygments_lexer": "ipython3",
   "version": "3.10.10"
  },
  "orig_nbformat": 4
 },
 "nbformat": 4,
 "nbformat_minor": 2
}
